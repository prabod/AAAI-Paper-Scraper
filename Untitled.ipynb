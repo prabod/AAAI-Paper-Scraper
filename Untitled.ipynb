{
 "cells": [
  {
   "cell_type": "code",
   "execution_count": 3,
   "metadata": {},
   "outputs": [],
   "source": [
    "import urlparse\n",
    "import scrapy\n",
    "\n",
    "from scrapy.http import Request\n",
    "\n",
    "class pwc_tax(scrapy.Spider):\n",
    "    name = \"aaai_18\"\n",
    "\n",
    "    allowed_domains = [\"aaai.org\"]\n",
    "    start_urls = [\"https://aaai.org/Library/AAAI/aaai18contents.php\"]\n",
    "    \n",
    "    def make_dir(directory):\n",
    "        import os\n",
    "        if not os.path.exists(directory):\n",
    "            os.makedirs(directory)\n",
    "    \n",
    "    def parse(self, response):\n",
    "        for h4 in response.xpath(\"//h4[text()[contains(.,'Technical')]]\"):\n",
    "            title = h4.xpath('text()').extract()\n",
    "            make_dir(title)\n",
    "            for row in h4.xpath('following-sibling::p'):\n",
    "                link = row.xpath('comment()').extract_first()\n",
    "                up_d = link.replace('<!--','').replace('-->', '')\n",
    "                commentsel = Selector(text=up_d, type=\"html\")\n",
    "                pdf = commentsel.xpath('//a/@href').extract_first()\n",
    "                pdf = pdf.replace('view','download')\n",
    "                print pdf\n",
    "                yield Request(\n",
    "                    url=pdf,\n",
    "                    callback=self.save_pdf\n",
    "                )\n",
    "            break\n",
    "\n",
    "    def parse_pdf(self, response):\n",
    "        for href in response.css('div.download_wrapper a[href$=\".pdf\"]::attr(href)').extract():\n",
    "            yield Request(\n",
    "                url=response.urljoin(href),\n",
    "                callback=self.save_pdf\n",
    "            )\n",
    "\n",
    "    def save_pdf(self, response):\n",
    "        path = response.url.split('/')[-1]\n",
    "        self.logger.info('Saving PDF %s', path)\n",
    "        with open(path, 'wb') as f:\n",
    "            f.write(response.body)"
   ]
  }
 ],
 "metadata": {
  "kernelspec": {
   "display_name": "Python 2",
   "language": "python",
   "name": "python2"
  },
  "language_info": {
   "codemirror_mode": {
    "name": "ipython",
    "version": 2
   },
   "file_extension": ".py",
   "mimetype": "text/x-python",
   "name": "python",
   "nbconvert_exporter": "python",
   "pygments_lexer": "ipython2",
   "version": "2.7.13"
  }
 },
 "nbformat": 4,
 "nbformat_minor": 2
}
